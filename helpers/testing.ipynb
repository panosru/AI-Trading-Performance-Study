{
 "cells": [
  {
   "metadata": {},
   "cell_type": "code",
   "outputs": [],
   "execution_count": null,
   "source": [
    "import random\n",
    "from sklearn.ensemble import RandomForestClassifier\n",
    "from sklearn.inspection import permutation_importance"
   ],
   "id": "9e85b97b4dd73d9b"
  },
  {
   "metadata": {
    "collapsed": true,
    "ExecuteTime": {
     "end_time": "2025-01-04T16:22:49.884413Z",
     "start_time": "2025-01-04T16:22:49.882197Z"
    }
   },
   "cell_type": "code",
   "outputs": [],
   "execution_count": 1,
   "source": [
    "# Check for input leakage\n",
    "def check_data_leakage(prices, predictions):\n",
    "    \"\"\"\n",
    "    Check if predictions are aligned with current prices and not future prices.\n",
    "\n",
    "    Parameters:\n",
    "    prices (list or array): List of actual prices.\n",
    "    predictions (list or array): List of predicted values.\n",
    "    \"\"\"\n",
    "    if len(predictions) != len(prices):\n",
    "        print(\"Data misalignment: Prices and Predictions lengths differ.\")\n",
    "    else:\n",
    "        print(\"Data alignment check passed.\")\n",
    "\n",
    "    shifted_prices = pd.Series(prices).shift(-1)\n",
    "    correlations = pd.DataFrame({\n",
    "        'predictions': predictions[:-1],\n",
    "        'future_price_change': shifted_prices.diff().fillna(0)[:-1]\n",
    "    }).corr()\n",
    "    print(\"Correlation between predictions and future price changes:\")\n",
    "    print(correlations)"
   ],
   "id": "initial_id"
  },
  {
   "metadata": {},
   "cell_type": "code",
   "outputs": [],
   "execution_count": null,
   "source": [
    "# Feature importance analysis\n",
    "def analyze_feature_importance(features, target):\n",
    "    \"\"\"\n",
    "    Analyze feature importance using RandomForestClassifier and permutation importance.\n",
    "\n",
    "    Parameters:\n",
    "    features (DataFrame): Features input_data.\n",
    "    target (Series): Target variable.\n",
    "    \"\"\"\n",
    "    clf = RandomForestClassifier(random_state=42)\n",
    "    clf.fit(features, target)\n",
    "\n",
    "    importances = pd.DataFrame({\n",
    "        'Feature': features.columns,\n",
    "        'Importance': clf.feature_importances_\n",
    "    }).sort_values(by='Importance', ascending=False)\n",
    "    print(\"Feature Importances:\")\n",
    "    print(importances)\n",
    "\n",
    "    perm_importance = permutation_importance(clf, features, target, random_state=42)\n",
    "    perm_importances = pd.DataFrame({\n",
    "        'Feature': features.columns,\n",
    "        'Importance': perm_importance.importances_mean\n",
    "    }).sort_values(by='Importance', ascending=False)\n",
    "    print(\"Permutation Importances:\")\n",
    "    print(perm_importances)"
   ],
   "id": "41fab49be8cdd419"
  },
  {
   "metadata": {},
   "cell_type": "code",
   "outputs": [],
   "execution_count": null,
   "source": [
    "# Risk-Reward Dynamics\n",
    "def calculate_sharpe_ratio(profits, initial_capital, risk_free_rate=0.01):\n",
    "    \"\"\"\n",
    "    Calculate the Sharpe ratio.\n",
    "\n",
    "    Parameters:\n",
    "    profits (array): Array of profit/loss values.\n",
    "    initial_capital (float): Initial capital invested.\n",
    "    risk_free_rate (float): Risk-free rate of return.\n",
    "\n",
    "    Returns:\n",
    "    float: Sharpe ratio.\n",
    "    \"\"\"\n",
    "    returns = profits / initial_capital\n",
    "    excess_returns = returns - risk_free_rate\n",
    "    sharpe_ratio = np.mean(excess_returns) / np.std(excess_returns)\n",
    "    return sharpe_ratio\n",
    "\n",
    "def evaluate_risk_reward(total_capital_history, initial_capital):\n",
    "    \"\"\"\n",
    "    Evaluate risk-reward dynamics by calculating profit distribution and Sharpe ratio.\n",
    "\n",
    "    Parameters:\n",
    "    total_capital_history (array): Array of total capital over time.\n",
    "    initial_capital (float): Initial capital invested.\n",
    "    \"\"\"\n",
    "    profits = np.diff(total_capital_history)\n",
    "    profit_series = pd.Series(profits)\n",
    "    print(\"Profit/Loss Distribution:\")\n",
    "    print(profit_series.describe())\n",
    "\n",
    "    sharpe_ratio = calculate_sharpe_ratio(profit_series, initial_capital)\n",
    "    print(f\"Sharpe Ratio: {sharpe_ratio:.2f}\")"
   ],
   "id": "3338d00f47ad9ec"
  },
  {
   "metadata": {
    "ExecuteTime": {
     "end_time": "2025-01-04T16:24:11.050422Z",
     "start_time": "2025-01-04T16:24:11.047064Z"
    }
   },
   "cell_type": "code",
   "source": [
    "# Trading Logic Validation\n",
    "def random_strategy(prices, initial_capital=10000, risk_level=0.1):\n",
    "    \"\"\"\n",
    "    Simulate a random trading strategy.\n",
    "\n",
    "    Parameters:\n",
    "    prices (list or array): List of prices.\n",
    "    initial_capital (float): Starting USD balance.\n",
    "    risk_level (float): Percentage of capital to risk per trade.\n",
    "\n",
    "    Returns:\n",
    "    list: Total capital history over the period.\n",
    "    \"\"\"\n",
    "    usd_balance = initial_capital\n",
    "    btc_balance = 0\n",
    "    total_capital_history = []\n",
    "\n",
    "    for price in prices:\n",
    "        action = random.choice(['buy', 'sell', 'hold'])\n",
    "        if action == 'buy' and usd_balance > 0:\n",
    "            amount_to_invest = usd_balance * risk_level\n",
    "            btc_bought = amount_to_invest / price\n",
    "            btc_balance += btc_bought\n",
    "            usd_balance -= amount_to_invest\n",
    "        elif action == 'sell' and btc_balance > 0:\n",
    "            btc_sold = btc_balance * risk_level\n",
    "            usd_gained = btc_sold * price\n",
    "            btc_balance -= btc_sold\n",
    "            usd_balance += usd_gained\n",
    "        total = usd_balance + btc_balance * price\n",
    "        total_capital_history.append(total)\n",
    "\n",
    "    return total_capital_history"
   ],
   "id": "cfa813d108526cfb",
   "outputs": [],
   "execution_count": 2
  },
  {
   "metadata": {
    "ExecuteTime": {
     "end_time": "2025-01-04T17:07:38.766014Z",
     "start_time": "2025-01-04T17:07:38.749626Z"
    }
   },
   "cell_type": "code",
   "source": [
    "# Sensitivity Analysis\n",
    "def sensitivity_analysis(trading_data, initial_balances, fees):\n",
    "    \"\"\"\n",
    "    Perform sensitivity analysis on trading strategy.\n",
    "\n",
    "    Parameters:\n",
    "    trading_data (DataFrame): Data including 'Action', 'Trade_Percentage', and 'prices'.\n",
    "    initial_balances (list): List of (USD balance, BTC balance) tuples.\n",
    "    fees (list): List of (maker_fee, taker_fee) tuples.\n",
    "\n",
    "    Returns:\n",
    "    DataFrame: Summary of results for each configuration.\n",
    "    \"\"\"\n",
    "    results = []\n",
    "\n",
    "    for usd_start, btc_start in initial_balances:\n",
    "        for maker_fee, taker_fee in fees:\n",
    "            # Assuming process_trades is defined elsewhere\n",
    "            usd_balance, btc_balance, total_capital_history, _, _, buy_count, sell_count = process_trades(\n",
    "                trading_data=trading_data,\n",
    "                usd_balance=usd_start,\n",
    "                btc_balance=btc_start,\n",
    "                maker_fee=maker_fee,\n",
    "                taker_fee=taker_fee\n",
    "            )\n",
    "\n",
    "            final_btc_price = trading_data['prices'].iloc[-1]\n",
    "            remaining_btc_value = btc_balance * final_btc_price\n",
    "            total_portfolio_value = usd_balance + remaining_btc_value\n",
    "            profit_loss_percentage = ((total_portfolio_value - usd_start) / usd_start) * 100\n",
    "\n",
    "            results.append({\n",
    "                'Initial USD Balance': usd_start,\n",
    "                'Initial BTC Balance': btc_start,\n",
    "                'Maker Fee': maker_fee,\n",
    "                'Taker Fee': taker_fee,\n",
    "                'Final USD Balance': usd_balance,\n",
    "                'Final BTC Balance': btc_balance,\n",
    "                'Total Portfolio Value (USD)': total_portfolio_value,\n",
    "                'Profit/Loss (%)': profit_loss_percentage,\n",
    "                'Buy Trades': buy_count,\n",
    "                'Sell Trades': sell_count\n",
    "            })\n",
    "\n",
    "    return pd.DataFrame(results)"
   ],
   "id": "356e25aa37b0f30b",
   "outputs": [],
   "execution_count": 3
  },
  {
   "metadata": {},
   "cell_type": "code",
   "outputs": [],
   "execution_count": null,
   "source": [
    "print(\"Data Leakage Check\\n\")\n",
    "check_data_leakage(prices, predictions)"
   ],
   "id": "efc3a4c06f45aa6a"
  },
  {
   "metadata": {},
   "cell_type": "code",
   "outputs": [],
   "execution_count": null,
   "source": [
    "print(\"\\n\\nFeature Importance Analysis\\n\")\n",
    "analyze_feature_importance(features, target)"
   ],
   "id": "f812c3c6ffa608cd"
  },
  {
   "metadata": {},
   "cell_type": "code",
   "outputs": [],
   "execution_count": null,
   "source": [
    "print(\"\\n\\nRisk-Reward Dynamics\\n\")\n",
    "evaluate_risk_reward(total_capital_history, initial_capital)"
   ],
   "id": "7426644622879156"
  },
  {
   "metadata": {},
   "cell_type": "code",
   "outputs": [],
   "execution_count": null,
   "source": [
    "print(\"\\n\\nTrading Logic Validation\\n\")\n",
    "random_capital_history = random_strategy(prices, initial_capital=10000, risk_level=0.1)\n",
    "evaluate_risk_reward(random_capital_history, initial_capital=10000)"
   ],
   "id": "53424bbb200225ed"
  },
  {
   "metadata": {},
   "cell_type": "code",
   "outputs": [],
   "execution_count": null,
   "source": [
    "# Run sensitivity analysis\n",
    "# Initial balances to test\n",
    "initial_balances = [(10000.0, 0.0), (20000.0, 0.0), (5000.0, 0.5)]\n",
    "\n",
    "# Fee configurations to test\n",
    "fees = [(0.0025, 0.0040), (0.0015, 0.0030), (0.0050, 0.0075)]\n",
    "\n",
    "sensitivity_results = sensitivity_analysis(\n",
    "    trading_data=data,\n",
    "    initial_balances=initial_balances,\n",
    "    fees=fees\n",
    ")"
   ],
   "id": "7880587ada19ce9d"
  },
  {
   "metadata": {},
   "cell_type": "code",
   "outputs": [],
   "execution_count": null,
   "source": [
    "print(\"\\n\\nSensitivity Analysis\\n\")\n",
    "display(sensitivity_results)"
   ],
   "id": "e28cb77c0ce13f00"
  },
  {
   "metadata": {},
   "cell_type": "code",
   "outputs": [],
   "execution_count": null,
   "source": [
    "plt.figure(figsize=(12, 6))\n",
    "for usd_start, btc_start in initial_balances:\n",
    "    subset = sensitivity_results[sensitivity_results['Initial USD Balance'] == usd_start]\n",
    "    plt.plot(subset['Maker Fee'], subset['Profit/Loss (%)'], marker='o', label=f'USD: {usd_start}, BTC: {btc_start}')\n",
    "\n",
    "plt.title('Sensitivity Analysis: Profit/Loss vs Maker Fee', fontsize=14)\n",
    "plt.xlabel('Maker Fee', fontsize=12)\n",
    "plt.ylabel('Profit/Loss (%)', fontsize=12)\n",
    "plt.legend(fontsize=12)\n",
    "plt.grid(True, linestyle='--', alpha=0.6)\n",
    "plt.tight_layout()\n",
    "plt.show()"
   ],
   "id": "ea3958546e79c736"
  }
 ],
 "metadata": {
  "kernelspec": {
   "display_name": "Python 3",
   "language": "python",
   "name": "python3"
  },
  "language_info": {
   "codemirror_mode": {
    "name": "ipython",
    "version": 2
   },
   "file_extension": ".py",
   "mimetype": "text/x-python",
   "name": "python",
   "nbconvert_exporter": "python",
   "pygments_lexer": "ipython2",
   "version": "2.7.6"
  }
 },
 "nbformat": 4,
 "nbformat_minor": 5
}
