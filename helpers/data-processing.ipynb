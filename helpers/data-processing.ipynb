{
 "cells": [
  {
   "cell_type": "code",
   "id": "initial_id",
   "metadata": {
    "collapsed": true,
    "ExecuteTime": {
     "end_time": "2025-01-12T19:00:41.611099Z",
     "start_time": "2025-01-12T19:00:41.430009Z"
    }
   },
   "source": [
    "import os\n",
    "import pandas as pd\n",
    "import numpy as np\n",
    "from sklearn.ensemble import RandomForestClassifier\n",
    "from sklearn.feature_selection import SelectFromModel\n",
    "from sklearn.model_selection import cross_val_score\n",
    "from IPython.display import display"
   ],
   "outputs": [],
   "execution_count": 1
  },
  {
   "metadata": {
    "ExecuteTime": {
     "end_time": "2025-01-12T19:00:42.131826Z",
     "start_time": "2025-01-12T19:00:42.130Z"
    }
   },
   "cell_type": "code",
   "source": "os.environ['TF_CPP_MIN_LOG_LEVEL'] = '2' # Set logging level to WARNING",
   "id": "65460921a091a2f7",
   "outputs": [],
   "execution_count": 2
  },
  {
   "metadata": {
    "ExecuteTime": {
     "end_time": "2025-01-12T19:00:42.573273Z",
     "start_time": "2025-01-12T19:00:42.571823Z"
    }
   },
   "cell_type": "code",
   "source": [
    "# File path\n",
    "file_path = '../input/power_data.csv'"
   ],
   "id": "1669839299f08dec",
   "outputs": [],
   "execution_count": 3
  },
  {
   "metadata": {},
   "cell_type": "code",
   "source": [
    "# Ensure export directory exists\n",
    "os.makedirs(output_path, exist_ok=True)"
   ],
   "id": "7f3da61d3204b082",
   "outputs": [],
   "execution_count": null
  },
  {
   "metadata": {
    "ExecuteTime": {
     "end_time": "2025-01-12T19:00:50.375982Z",
     "start_time": "2025-01-12T19:00:44.838656Z"
    }
   },
   "cell_type": "code",
   "source": [
    "# Load the input into memory using Pandas (for large dataset it's better to use Dask)\n",
    "df = pd.read_csv(file_path)"
   ],
   "id": "20b7421fcee621bd",
   "outputs": [],
   "execution_count": 4
  },
  {
   "metadata": {
    "ExecuteTime": {
     "end_time": "2025-01-12T19:00:52.377848Z",
     "start_time": "2025-01-12T19:00:52.375570Z"
    }
   },
   "cell_type": "code",
   "source": [
    "# Specialized function for rolling median\n",
    "def fill_missing_with_rolling_median(data, date_column, target_column, rolling_window_days):\n",
    "    \"\"\"\n",
    "    Fills missing values in a target column using the median of a rolling window.\n",
    "\n",
    "    Args:\n",
    "        data (pd.DataFrame): The DataFrame containing the input.\n",
    "        date_column (str): The column name for the datetime information.\n",
    "        target_column (str): The column with missing values to fill.\n",
    "        rolling_window_days (int): Number of days for the rolling window.\n",
    "\n",
    "    Returns:\n",
    "        pd.Series: A series with filled missing values.\n",
    "    \"\"\"\n",
    "    # Convert date_column to datetime if not already\n",
    "    if not np.issubdtype(data[date_column].dtype, np.datetime64):\n",
    "        data[date_column] = pd.to_datetime(data[date_column])\n",
    "\n",
    "    filled_column = data[target_column].copy()\n",
    "\n",
    "    # Use rolling window with datetime-based indexing for efficiency\n",
    "    rolling_window = f\"{rolling_window_days}D\"\n",
    "    filled_column = filled_column.fillna(\n",
    "        data.set_index(date_column)[target_column].rolling(rolling_window, min_periods=1).median()\n",
    "    )\n",
    "\n",
    "    return filled_column"
   ],
   "id": "e59f0dd56cc6798",
   "outputs": [],
   "execution_count": 5
  },
  {
   "metadata": {
    "ExecuteTime": {
     "end_time": "2025-01-12T19:00:52.873410Z",
     "start_time": "2025-01-12T19:00:52.869749Z"
    }
   },
   "cell_type": "code",
   "source": [
    "# Handle missing values\n",
    "def handle_missing_values(data, threshold=5, fill_method='median', rolling_window_days=90, date_column='date'):\n",
    "    \"\"\"\n",
    "    Handles missing values in a DataFrame based on a specified threshold and filling method.\n",
    "\n",
    "    Args:\n",
    "    input (pd.DataFrame): The DataFrame to process.\n",
    "    threshold (float): Percentage threshold to decide whether to fill or drop columns.\n",
    "    fill_method (str): Method to fill missing values ('mean', 'median', or 'rolling_median').\n",
    "    rolling_window_days (int): Rolling window size in days (used only if fill_method='rolling_median').\n",
    "    date_column (str): The column name containing datetime information.\n",
    "\n",
    "    Returns:\n",
    "    tuple: (Processed DataFrame, DataFrame of results for tabulation)\n",
    "    \"\"\"\n",
    "    total_rows = len(data)\n",
    "    results = []  # Store results for tabulation\n",
    "\n",
    "    for column in data.columns:\n",
    "        missing_count = data[column].isna().sum()\n",
    "        missing_percentage = (missing_count / total_rows) * 100\n",
    "\n",
    "        if missing_percentage == 0:\n",
    "            results.append({\n",
    "                \"Column\": column,\n",
    "                \"Missing Count\": missing_count,\n",
    "                \"Missing Percentage\": missing_percentage,\n",
    "                \"Action\": \"No Missing Values\"\n",
    "            })\n",
    "            continue  # No missing values to handle\n",
    "\n",
    "        action = \"\"\n",
    "\n",
    "        if missing_percentage < threshold:\n",
    "            if fill_method == 'mean':\n",
    "                fill_value = data[column].mean()\n",
    "                data[column] = data[column].fillna(fill_value)\n",
    "                action = f\"Filled with mean ({fill_value:.2f})\"\n",
    "            elif fill_method == 'median':\n",
    "                fill_value = data[column].median()\n",
    "                data[column] = data[column].fillna(fill_value)\n",
    "                action = f\"Filled with median ({fill_value:.2f})\"\n",
    "            elif fill_method == 'rolling_median':\n",
    "                # Use rolling median strategy\n",
    "                data[column] = fill_missing_with_rolling_median(data, date_column, column, rolling_window_days)\n",
    "                action = f\"Filled with rolling median (window={rolling_window_days} days)\"\n",
    "            else:\n",
    "                raise ValueError(\"Invalid fill method. Choose 'mean', 'median', or 'rolling_median'.\")\n",
    "        else:\n",
    "            # Drop the column if missing percentage is above the threshold\n",
    "            data.drop(columns=[column], inplace=True)\n",
    "            action = f\"Dropped (missing > {threshold}%)\"\n",
    "\n",
    "        results.append({\n",
    "            \"Column\": column,\n",
    "            \"Missing Count\": missing_count,\n",
    "            \"Missing Percentage\": missing_percentage,\n",
    "            \"Action\": action\n",
    "        })\n",
    "\n",
    "    results_df = pd.DataFrame(results)\n",
    "    return data, results_df"
   ],
   "id": "75a56ecfedcebd06",
   "outputs": [],
   "execution_count": 6
  },
  {
   "metadata": {
    "ExecuteTime": {
     "end_time": "2025-01-12T19:00:54.350906Z",
     "start_time": "2025-01-12T19:00:54.255946Z"
    }
   },
   "cell_type": "code",
   "source": [
    "# Drop unnecessary columns\n",
    "columns_to_drop = ['symbol', 'token', 'hour', 'day']\n",
    "df = df.drop(columns=columns_to_drop, errors='ignore')"
   ],
   "id": "ac20d8f38d22f2cc",
   "outputs": [],
   "execution_count": 7
  },
  {
   "metadata": {
    "ExecuteTime": {
     "end_time": "2025-01-12T19:00:57.568678Z",
     "start_time": "2025-01-12T19:00:57.276774Z"
    }
   },
   "cell_type": "code",
   "source": [
    "# Convert 'date' to datetime and extract useful features\n",
    "if 'date' in df.columns:\n",
    "    df['date'] = pd.to_datetime(df['date'])\n",
    "    df['hour'] = df['date'].dt.hour  # Extract hour of the day\n",
    "    df['day_of_week'] = df['date'].dt.dayofweek  # Extract day of the week (0=Monday, 6=Sunday)\n",
    "    df['date'] = df['date'].astype('int64') / 10**9  # Convert to timestamp"
   ],
   "id": "59ccb278a453508b",
   "outputs": [],
   "execution_count": 8
  },
  {
   "metadata": {
    "ExecuteTime": {
     "end_time": "2025-01-12T19:01:07.217709Z",
     "start_time": "2025-01-12T19:01:06.983213Z"
    }
   },
   "cell_type": "code",
   "source": [
    "df, missing_report = handle_missing_values(df)\n",
    "print(\"Missing values in the dataset\")\n",
    "display(missing_report)"
   ],
   "id": "ba52a20e7278f402",
   "outputs": [
    {
     "name": "stdout",
     "output_type": "stream",
     "text": [
      "Missing values in the dataset\n"
     ]
    },
    {
     "data": {
      "text/plain": [
       "         Column  Missing Count  Missing Percentage  \\\n",
       "0          date              0            0.000000   \n",
       "1          open              0            0.000000   \n",
       "2          high              0            0.000000   \n",
       "3           low              0            0.000000   \n",
       "4         close              0            0.000000   \n",
       "5   Volume USDT              0            0.000000   \n",
       "6    tradecount              0            0.000000   \n",
       "7         ema_5              0            0.000000   \n",
       "8        ema_15              0            0.000000   \n",
       "9        ema_30              0            0.000000   \n",
       "10       ema_60              0            0.000000   \n",
       "11      ema_100              0            0.000000   \n",
       "12      ema_200              0            0.000000   \n",
       "13          WMA             13            0.000651   \n",
       "14         MACD             25            0.001252   \n",
       "15  MACD_Signal             33            0.001652   \n",
       "16    MACD_Hist             33            0.001652   \n",
       "17          ATR             14            0.000701   \n",
       "18          HMA             11            0.000551   \n",
       "19         KAMA              9            0.000451   \n",
       "20          CMO             14            0.000701   \n",
       "21      Z-Score            154            0.007711   \n",
       "22       QStick              9            0.000451   \n",
       "23         hour              0            0.000000   \n",
       "24  day_of_week              0            0.000000   \n",
       "\n",
       "                           Action  \n",
       "0               No Missing Values  \n",
       "1               No Missing Values  \n",
       "2               No Missing Values  \n",
       "3               No Missing Values  \n",
       "4               No Missing Values  \n",
       "5               No Missing Values  \n",
       "6               No Missing Values  \n",
       "7               No Missing Values  \n",
       "8               No Missing Values  \n",
       "9               No Missing Values  \n",
       "10              No Missing Values  \n",
       "11              No Missing Values  \n",
       "12              No Missing Values  \n",
       "13  Filled with median (26752.13)  \n",
       "14     Filled with median (-0.08)  \n",
       "15      Filled with median (0.00)  \n",
       "16     Filled with median (-0.10)  \n",
       "17     Filled with median (25.15)  \n",
       "18  Filled with median (26751.02)  \n",
       "19  Filled with median (26751.57)  \n",
       "20     Filled with median (-0.12)  \n",
       "21     Filled with median (-0.01)  \n",
       "22      Filled with median (0.01)  \n",
       "23              No Missing Values  \n",
       "24              No Missing Values  "
      ],
      "text/html": [
       "<div>\n",
       "<style scoped>\n",
       "    .dataframe tbody tr th:only-of-type {\n",
       "        vertical-align: middle;\n",
       "    }\n",
       "\n",
       "    .dataframe tbody tr th {\n",
       "        vertical-align: top;\n",
       "    }\n",
       "\n",
       "    .dataframe thead th {\n",
       "        text-align: right;\n",
       "    }\n",
       "</style>\n",
       "<table border=\"1\" class=\"dataframe\">\n",
       "  <thead>\n",
       "    <tr style=\"text-align: right;\">\n",
       "      <th></th>\n",
       "      <th>Column</th>\n",
       "      <th>Missing Count</th>\n",
       "      <th>Missing Percentage</th>\n",
       "      <th>Action</th>\n",
       "    </tr>\n",
       "  </thead>\n",
       "  <tbody>\n",
       "    <tr>\n",
       "      <th>0</th>\n",
       "      <td>date</td>\n",
       "      <td>0</td>\n",
       "      <td>0.000000</td>\n",
       "      <td>No Missing Values</td>\n",
       "    </tr>\n",
       "    <tr>\n",
       "      <th>1</th>\n",
       "      <td>open</td>\n",
       "      <td>0</td>\n",
       "      <td>0.000000</td>\n",
       "      <td>No Missing Values</td>\n",
       "    </tr>\n",
       "    <tr>\n",
       "      <th>2</th>\n",
       "      <td>high</td>\n",
       "      <td>0</td>\n",
       "      <td>0.000000</td>\n",
       "      <td>No Missing Values</td>\n",
       "    </tr>\n",
       "    <tr>\n",
       "      <th>3</th>\n",
       "      <td>low</td>\n",
       "      <td>0</td>\n",
       "      <td>0.000000</td>\n",
       "      <td>No Missing Values</td>\n",
       "    </tr>\n",
       "    <tr>\n",
       "      <th>4</th>\n",
       "      <td>close</td>\n",
       "      <td>0</td>\n",
       "      <td>0.000000</td>\n",
       "      <td>No Missing Values</td>\n",
       "    </tr>\n",
       "    <tr>\n",
       "      <th>5</th>\n",
       "      <td>Volume USDT</td>\n",
       "      <td>0</td>\n",
       "      <td>0.000000</td>\n",
       "      <td>No Missing Values</td>\n",
       "    </tr>\n",
       "    <tr>\n",
       "      <th>6</th>\n",
       "      <td>tradecount</td>\n",
       "      <td>0</td>\n",
       "      <td>0.000000</td>\n",
       "      <td>No Missing Values</td>\n",
       "    </tr>\n",
       "    <tr>\n",
       "      <th>7</th>\n",
       "      <td>ema_5</td>\n",
       "      <td>0</td>\n",
       "      <td>0.000000</td>\n",
       "      <td>No Missing Values</td>\n",
       "    </tr>\n",
       "    <tr>\n",
       "      <th>8</th>\n",
       "      <td>ema_15</td>\n",
       "      <td>0</td>\n",
       "      <td>0.000000</td>\n",
       "      <td>No Missing Values</td>\n",
       "    </tr>\n",
       "    <tr>\n",
       "      <th>9</th>\n",
       "      <td>ema_30</td>\n",
       "      <td>0</td>\n",
       "      <td>0.000000</td>\n",
       "      <td>No Missing Values</td>\n",
       "    </tr>\n",
       "    <tr>\n",
       "      <th>10</th>\n",
       "      <td>ema_60</td>\n",
       "      <td>0</td>\n",
       "      <td>0.000000</td>\n",
       "      <td>No Missing Values</td>\n",
       "    </tr>\n",
       "    <tr>\n",
       "      <th>11</th>\n",
       "      <td>ema_100</td>\n",
       "      <td>0</td>\n",
       "      <td>0.000000</td>\n",
       "      <td>No Missing Values</td>\n",
       "    </tr>\n",
       "    <tr>\n",
       "      <th>12</th>\n",
       "      <td>ema_200</td>\n",
       "      <td>0</td>\n",
       "      <td>0.000000</td>\n",
       "      <td>No Missing Values</td>\n",
       "    </tr>\n",
       "    <tr>\n",
       "      <th>13</th>\n",
       "      <td>WMA</td>\n",
       "      <td>13</td>\n",
       "      <td>0.000651</td>\n",
       "      <td>Filled with median (26752.13)</td>\n",
       "    </tr>\n",
       "    <tr>\n",
       "      <th>14</th>\n",
       "      <td>MACD</td>\n",
       "      <td>25</td>\n",
       "      <td>0.001252</td>\n",
       "      <td>Filled with median (-0.08)</td>\n",
       "    </tr>\n",
       "    <tr>\n",
       "      <th>15</th>\n",
       "      <td>MACD_Signal</td>\n",
       "      <td>33</td>\n",
       "      <td>0.001652</td>\n",
       "      <td>Filled with median (0.00)</td>\n",
       "    </tr>\n",
       "    <tr>\n",
       "      <th>16</th>\n",
       "      <td>MACD_Hist</td>\n",
       "      <td>33</td>\n",
       "      <td>0.001652</td>\n",
       "      <td>Filled with median (-0.10)</td>\n",
       "    </tr>\n",
       "    <tr>\n",
       "      <th>17</th>\n",
       "      <td>ATR</td>\n",
       "      <td>14</td>\n",
       "      <td>0.000701</td>\n",
       "      <td>Filled with median (25.15)</td>\n",
       "    </tr>\n",
       "    <tr>\n",
       "      <th>18</th>\n",
       "      <td>HMA</td>\n",
       "      <td>11</td>\n",
       "      <td>0.000551</td>\n",
       "      <td>Filled with median (26751.02)</td>\n",
       "    </tr>\n",
       "    <tr>\n",
       "      <th>19</th>\n",
       "      <td>KAMA</td>\n",
       "      <td>9</td>\n",
       "      <td>0.000451</td>\n",
       "      <td>Filled with median (26751.57)</td>\n",
       "    </tr>\n",
       "    <tr>\n",
       "      <th>20</th>\n",
       "      <td>CMO</td>\n",
       "      <td>14</td>\n",
       "      <td>0.000701</td>\n",
       "      <td>Filled with median (-0.12)</td>\n",
       "    </tr>\n",
       "    <tr>\n",
       "      <th>21</th>\n",
       "      <td>Z-Score</td>\n",
       "      <td>154</td>\n",
       "      <td>0.007711</td>\n",
       "      <td>Filled with median (-0.01)</td>\n",
       "    </tr>\n",
       "    <tr>\n",
       "      <th>22</th>\n",
       "      <td>QStick</td>\n",
       "      <td>9</td>\n",
       "      <td>0.000451</td>\n",
       "      <td>Filled with median (0.01)</td>\n",
       "    </tr>\n",
       "    <tr>\n",
       "      <th>23</th>\n",
       "      <td>hour</td>\n",
       "      <td>0</td>\n",
       "      <td>0.000000</td>\n",
       "      <td>No Missing Values</td>\n",
       "    </tr>\n",
       "    <tr>\n",
       "      <th>24</th>\n",
       "      <td>day_of_week</td>\n",
       "      <td>0</td>\n",
       "      <td>0.000000</td>\n",
       "      <td>No Missing Values</td>\n",
       "    </tr>\n",
       "  </tbody>\n",
       "</table>\n",
       "</div>"
      ]
     },
     "metadata": {},
     "output_type": "display_data"
    }
   ],
   "execution_count": 9
  },
  {
   "metadata": {
    "ExecuteTime": {
     "end_time": "2025-01-12T19:01:09.501407Z",
     "start_time": "2025-01-12T19:01:09.499176Z"
    }
   },
   "cell_type": "code",
   "source": [
    "# Ensure essential columns are present before feature engineering\n",
    "required_columns = ['open', 'close', 'Volume USDT', 'tradecount', 'high', 'low']\n",
    "missing_columns = [col for col in required_columns if col not in df.columns]\n",
    "if missing_columns:\n",
    "    raise KeyError(f\"Missing required columns for feature engineering: {missing_columns}\")"
   ],
   "id": "93c5eed5314dfda5",
   "outputs": [],
   "execution_count": 10
  },
  {
   "metadata": {
    "ExecuteTime": {
     "end_time": "2025-01-12T19:01:15.038652Z",
     "start_time": "2025-01-12T19:01:14.903834Z"
    }
   },
   "cell_type": "code",
   "source": [
    "# Create the 'price' column as the row-wise median of 'open', 'close', 'high', and 'low'\n",
    "df['price'] = df[['open', 'close', 'high', 'low']].median(axis=1)\n",
    "\n",
    "# Move price at second column position\n",
    "price_column = df.pop('price')\n",
    "df.insert(1, 'price', price_column)"
   ],
   "id": "7b1191051249146b",
   "outputs": [],
   "execution_count": 11
  },
  {
   "metadata": {
    "ExecuteTime": {
     "end_time": "2025-01-12T19:01:15.888332Z",
     "start_time": "2025-01-12T19:01:15.870930Z"
    }
   },
   "cell_type": "code",
   "source": [
    "# Calculate price_direction based on the previous row's price\n",
    "df['price_direction'] = (df['price'].diff().fillna(0) >= 0).astype(int) # 1: goes  up or same, 0: goes down"
   ],
   "id": "7e05766a58a9e9fe",
   "outputs": [],
   "execution_count": 12
  },
  {
   "metadata": {
    "ExecuteTime": {
     "end_time": "2025-01-12T19:01:16.602726Z",
     "start_time": "2025-01-12T19:01:16.516574Z"
    }
   },
   "cell_type": "code",
   "source": [
    "# Define features and target\n",
    "# Here we drop 'price_direction' from features\n",
    "features = df.drop(['price_direction'], axis=1)\n",
    "target = df['price_direction']"
   ],
   "id": "7c751c0be050d6ef",
   "outputs": [],
   "execution_count": 13
  },
  {
   "metadata": {
    "ExecuteTime": {
     "end_time": "2025-01-12T19:01:17.388433Z",
     "start_time": "2025-01-12T19:01:17.386004Z"
    }
   },
   "cell_type": "code",
   "source": [
    "# Safeguard the 'price' and 'price_direction' columns\n",
    "prices = features['price'].values if 'price' in features.columns else None\n",
    "predictions = target.values if 'price_direction' in target.name else None"
   ],
   "id": "fdc22b11607c4be4",
   "outputs": [],
   "execution_count": 14
  },
  {
   "metadata": {
    "ExecuteTime": {
     "end_time": "2025-01-12T19:01:19.287238Z",
     "start_time": "2025-01-12T19:01:19.231985Z"
    }
   },
   "cell_type": "code",
   "source": [
    "# Feature engineering\n",
    "# Calculate price_change_ratio based on the 'price' column\n",
    "features['price_change_ratio'] = features['price'].pct_change().fillna(0)\n",
    "\n",
    "# Calculate trade_volume_ratio safely\n",
    "features['tradecount'] = features['tradecount'].fillna(0)  # Replace NaN with 0\n",
    "features['trade_volume_ratio'] = np.where(\n",
    "    features['tradecount'] == 0,  # Avoid division by zero\n",
    "    features['Volume USDT'].median() / 1,  # Use median volume as fallback\n",
    "    features['Volume USDT'] / features['tradecount']\n",
    ")\n",
    "features['trade_volume_ratio'] = features['trade_volume_ratio'].fillna(features['trade_volume_ratio'].median())\n",
    "\n",
    "# Calculate high_low_spread as the difference between high and low prices\n",
    "features['high_low_spread'] = features['high'] - features['low']"
   ],
   "id": "be1cf5e5341e0457",
   "outputs": [],
   "execution_count": 16
  },
  {
   "metadata": {
    "ExecuteTime": {
     "end_time": "2025-01-12T19:01:28.238603Z",
     "start_time": "2025-01-12T19:01:28.076022Z"
    }
   },
   "cell_type": "code",
   "source": [
    "# Drop opem, close, high and low columns\n",
    "columns_to_drop = ['open', 'close', 'high', 'low']\n",
    "df = df.drop(columns=columns_to_drop, errors='ignore')"
   ],
   "id": "9f00af9335da4d74",
   "outputs": [],
   "execution_count": 17
  },
  {
   "metadata": {
    "ExecuteTime": {
     "end_time": "2025-01-12T19:01:31.040551Z",
     "start_time": "2025-01-12T19:01:28.845927Z"
    }
   },
   "cell_type": "code",
   "source": [
    "# Drop redundant features based on correlation\n",
    "print(\"Analyzing feature correlations...\")\n",
    "\n",
    "# Define a threshold for high correlation\n",
    "correlation_threshold = 0.9\n",
    "\n",
    "# Compute the correlation matrix\n",
    "correlation_matrix = features.corr()\n",
    "\n",
    "# Create a set to hold the features to drop\n",
    "features_to_drop = set()\n",
    "\n",
    "# Iterate through the correlation matrix to find features with high correlation\n",
    "for i in range(len(correlation_matrix.columns)):\n",
    "    for j in range(i):\n",
    "        if abs(correlation_matrix.iloc[i, j]) > correlation_threshold:\n",
    "            col_name = correlation_matrix.columns[i]  # Feature to drop\n",
    "            features_to_drop.add(col_name)\n",
    "\n",
    "# Drop the identified features\n",
    "if features_to_drop:\n",
    "    features = features.drop(columns=features_to_drop, errors='ignore')\n",
    "    print(\n",
    "        f\"\\nThe following features were dropped due to high correlation \"\n",
    "        f\"(threshold: {correlation_threshold * 100:.0f}%):\"\n",
    "    )\n",
    "    for feature in features_to_drop:\n",
    "        print(f\"- {feature}\")\n",
    "else:\n",
    "    print(\"\\nNo features were dropped due to high correlation.\")"
   ],
   "id": "795b4b84ecd81c12",
   "outputs": [
    {
     "name": "stdout",
     "output_type": "stream",
     "text": [
      "Analyzing feature correlations...\n",
      "\n",
      "The following features were dropped due to high correlation (threshold: 90%):\n",
      "- MACD_Hist\n",
      "- close\n",
      "- low\n",
      "- open\n",
      "- ema_200\n",
      "- ema_100\n",
      "- Z-Score\n",
      "- ema_5\n",
      "- ema_30\n",
      "- KAMA\n",
      "- WMA\n",
      "- ema_60\n",
      "- ema_15\n",
      "- HMA\n",
      "- high\n"
     ]
    }
   ],
   "execution_count": 18
  },
  {
   "metadata": {
    "ExecuteTime": {
     "end_time": "2025-01-12T19:25:58.222527Z",
     "start_time": "2025-01-12T19:25:42.724837Z"
    }
   },
   "cell_type": "code",
   "source": [
    "# Feature selection using RandomForest with cross-validation (optimized)\n",
    "print(\"\\nPerforming feature selection using RandomForestClassifier...\")\n",
    "\n",
    "# Initialize RandomForest with optimized parameters\n",
    "clf = RandomForestClassifier(\n",
    "    n_estimators=50,  # Reduce the number of trees (default is 100)\n",
    "    max_depth=10,     # Limit the depth of trees to prevent overfitting\n",
    "    random_state=42,\n",
    "    n_jobs=-1         # Use all available CPU cores for parallel processing\n",
    ")\n",
    "\n",
    "# Use a smaller subset of input_data for cross-validation (if the dataset is large)\n",
    "subset_size = min(50000, len(features))  # Use up to 50,000 samples for speed\n",
    "if len(features) > subset_size:\n",
    "    subset_indices = np.random.choice(len(features), subset_size, replace=False)\n",
    "    features_subset = features.iloc[subset_indices]\n",
    "    target_subset = target.iloc[subset_indices]\n",
    "else:\n",
    "    features_subset = features\n",
    "    target_subset = target\n",
    "\n",
    "# Perform cross-validation on the subset\n",
    "scores = cross_val_score(clf, features_subset, target_subset, cv=3, scoring='accuracy')  # Reduce cv to 3\n",
    "print(f\"\\nCross-validation accuracy scores: {scores}\")\n",
    "print(f\"\\nMean accuracy: {scores.mean():.4f}\")\n",
    "\n",
    "# Fit the model on the full dataset\n",
    "clf.fit(features, target)\n",
    "\n",
    "# Select relevant features based on importance\n",
    "selector = SelectFromModel(clf, prefit=True, threshold=\"0.01*mean\")\n",
    "selected_feature_names = features.columns[selector.get_support()]\n",
    "features = features[selected_feature_names]\n",
    "\n",
    "# Display selected features\n",
    "if not selected_feature_names.empty:\n",
    "    print(\"\\nThe following features were selected based on feature importance:\")\n",
    "    for feature in selected_feature_names:\n",
    "        print(f\"- {feature}\")\n",
    "else:\n",
    "    print(\"\\nNo features were selected by RandomForest feature selection.\")\n",
    "\n",
    "print(\"\\nFeature selection process completed.\")"
   ],
   "id": "946c23297e6b7927",
   "outputs": [
    {
     "name": "stdout",
     "output_type": "stream",
     "text": [
      "\n",
      "Performing feature selection using RandomForestClassifier...\n",
      "\n",
      "Cross-validation accuracy scores: [0.99994 0.99994 0.99988]\n",
      "\n",
      "Mean accuracy: 0.9999\n",
      "\n",
      "The following features were selected based on feature importance:\n",
      "- date\n",
      "- price\n",
      "- Volume USDT\n",
      "- tradecount\n",
      "- MACD\n",
      "- MACD_Signal\n",
      "- ATR\n",
      "- CMO\n",
      "- QStick\n",
      "- price_change_ratio\n",
      "- high_low_spread\n",
      "\n",
      "Feature selection process completed.\n"
     ]
    }
   ],
   "execution_count": 21
  },
  {
   "metadata": {
    "ExecuteTime": {
     "end_time": "2025-01-12T19:26:04.861972Z",
     "start_time": "2025-01-12T19:26:04.795402Z"
    }
   },
   "cell_type": "code",
   "source": [
    "# Convert features and target to NumPy arrays\n",
    "X = features.values\n",
    "y = target.values"
   ],
   "id": "265fbe8cdfe676b3",
   "outputs": [],
   "execution_count": 22
  },
  {
   "metadata": {
    "ExecuteTime": {
     "end_time": "2025-01-12T19:26:05.354965Z",
     "start_time": "2025-01-12T19:26:05.345238Z"
    }
   },
   "cell_type": "code",
   "source": [
    "# Ensure the features and target are aligned\n",
    "features = pd.DataFrame(X, columns=features.columns)  # Features from preprocessing\n",
    "target = pd.Series(y, name=\"price_direction\")         # Target column"
   ],
   "id": "2016e3cdc645056b",
   "outputs": [],
   "execution_count": 23
  },
  {
   "metadata": {
    "ExecuteTime": {
     "end_time": "2025-01-12T19:26:05.771525Z",
     "start_time": "2025-01-12T19:26:05.769484Z"
    }
   },
   "cell_type": "code",
   "source": [
    "# Display the shape of the dataset\n",
    "print(f\"\\nShape of X: {X.shape}\")"
   ],
   "id": "f2a84d2a608ea2e7",
   "outputs": [
    {
     "name": "stdout",
     "output_type": "stream",
     "text": [
      "\n",
      "Shape of X: (1997210, 11)\n"
     ]
    }
   ],
   "execution_count": 24
  },
  {
   "metadata": {
    "ExecuteTime": {
     "end_time": "2025-01-12T19:26:06.441746Z",
     "start_time": "2025-01-12T19:26:06.432413Z"
    }
   },
   "cell_type": "code",
   "source": [
    "# Display the first few rows of X (features)\n",
    "display(features)"
   ],
   "id": "f422284d9af863e",
   "outputs": [
    {
     "data": {
      "text/plain": [
       "                 date      price  Volume USDT  tradecount         MACD  \\\n",
       "0        1.577837e+09   7180.720     509146.0       140.0     0.728704   \n",
       "1        1.577837e+09   7178.470     713540.0       148.0     0.736887   \n",
       "2        1.577837e+09   7179.440     497793.0       104.0     0.846578   \n",
       "3        1.577837e+09   7177.175     698627.0       193.0     0.650488   \n",
       "4        1.577837e+09   7175.160     241980.0       124.0     0.987398   \n",
       "...               ...        ...          ...         ...          ...   \n",
       "1997205  1.698019e+09  29966.285     482950.0       635.0 -4056.925846   \n",
       "1997206  1.698019e+09  29970.500     169682.0       450.0 -3657.565528   \n",
       "1997207  1.698019e+09  29975.100     111271.0       303.0 -3095.229187   \n",
       "1997208  1.698019e+09  29980.890     169741.0       631.0 -2332.807178   \n",
       "1997209  1.698019e+09  29988.730     321595.0       861.0 -1326.581600   \n",
       "\n",
       "         MACD_Signal          ATR        CMO  QStick  price_change_ratio  \\\n",
       "0          -0.152219     4.684925   4.193879   0.120            0.000000   \n",
       "1          -0.182091     4.698380   0.859360   0.528           -0.000313   \n",
       "2          -0.117923     4.609025  11.466626   0.493            0.000135   \n",
       "3          -0.343494     4.398181  -7.962104  -0.425           -0.000315   \n",
       "4          -0.092457     4.262656  -6.795307  -0.131           -0.000281   \n",
       "...              ...          ...        ...     ...                 ...   \n",
       "1997205 -1909.922487   926.278065 -97.689989  13.189           -0.000401   \n",
       "1997206 -1988.042791   996.882531 -97.688910  24.399            0.000141   \n",
       "1997207 -1922.717147  1072.856572 -97.688328  32.045            0.000153   \n",
       "1997208 -1640.974425  1154.492462 -97.687019  22.669            0.000193   \n",
       "1997209 -1044.992454  1242.094190 -97.685909  18.319            0.000261   \n",
       "\n",
       "         high_low_spread  \n",
       "0                   3.69  \n",
       "1                   3.76  \n",
       "2                   5.60  \n",
       "3                   6.16  \n",
       "4                   3.86  \n",
       "...                  ...  \n",
       "1997205             5.00  \n",
       "1997206             5.83  \n",
       "1997207             3.40  \n",
       "1997208             8.21  \n",
       "1997209            12.47  \n",
       "\n",
       "[1997210 rows x 11 columns]"
      ],
      "text/html": [
       "<div>\n",
       "<style scoped>\n",
       "    .dataframe tbody tr th:only-of-type {\n",
       "        vertical-align: middle;\n",
       "    }\n",
       "\n",
       "    .dataframe tbody tr th {\n",
       "        vertical-align: top;\n",
       "    }\n",
       "\n",
       "    .dataframe thead th {\n",
       "        text-align: right;\n",
       "    }\n",
       "</style>\n",
       "<table border=\"1\" class=\"dataframe\">\n",
       "  <thead>\n",
       "    <tr style=\"text-align: right;\">\n",
       "      <th></th>\n",
       "      <th>date</th>\n",
       "      <th>price</th>\n",
       "      <th>Volume USDT</th>\n",
       "      <th>tradecount</th>\n",
       "      <th>MACD</th>\n",
       "      <th>MACD_Signal</th>\n",
       "      <th>ATR</th>\n",
       "      <th>CMO</th>\n",
       "      <th>QStick</th>\n",
       "      <th>price_change_ratio</th>\n",
       "      <th>high_low_spread</th>\n",
       "    </tr>\n",
       "  </thead>\n",
       "  <tbody>\n",
       "    <tr>\n",
       "      <th>0</th>\n",
       "      <td>1.577837e+09</td>\n",
       "      <td>7180.720</td>\n",
       "      <td>509146.0</td>\n",
       "      <td>140.0</td>\n",
       "      <td>0.728704</td>\n",
       "      <td>-0.152219</td>\n",
       "      <td>4.684925</td>\n",
       "      <td>4.193879</td>\n",
       "      <td>0.120</td>\n",
       "      <td>0.000000</td>\n",
       "      <td>3.69</td>\n",
       "    </tr>\n",
       "    <tr>\n",
       "      <th>1</th>\n",
       "      <td>1.577837e+09</td>\n",
       "      <td>7178.470</td>\n",
       "      <td>713540.0</td>\n",
       "      <td>148.0</td>\n",
       "      <td>0.736887</td>\n",
       "      <td>-0.182091</td>\n",
       "      <td>4.698380</td>\n",
       "      <td>0.859360</td>\n",
       "      <td>0.528</td>\n",
       "      <td>-0.000313</td>\n",
       "      <td>3.76</td>\n",
       "    </tr>\n",
       "    <tr>\n",
       "      <th>2</th>\n",
       "      <td>1.577837e+09</td>\n",
       "      <td>7179.440</td>\n",
       "      <td>497793.0</td>\n",
       "      <td>104.0</td>\n",
       "      <td>0.846578</td>\n",
       "      <td>-0.117923</td>\n",
       "      <td>4.609025</td>\n",
       "      <td>11.466626</td>\n",
       "      <td>0.493</td>\n",
       "      <td>0.000135</td>\n",
       "      <td>5.60</td>\n",
       "    </tr>\n",
       "    <tr>\n",
       "      <th>3</th>\n",
       "      <td>1.577837e+09</td>\n",
       "      <td>7177.175</td>\n",
       "      <td>698627.0</td>\n",
       "      <td>193.0</td>\n",
       "      <td>0.650488</td>\n",
       "      <td>-0.343494</td>\n",
       "      <td>4.398181</td>\n",
       "      <td>-7.962104</td>\n",
       "      <td>-0.425</td>\n",
       "      <td>-0.000315</td>\n",
       "      <td>6.16</td>\n",
       "    </tr>\n",
       "    <tr>\n",
       "      <th>4</th>\n",
       "      <td>1.577837e+09</td>\n",
       "      <td>7175.160</td>\n",
       "      <td>241980.0</td>\n",
       "      <td>124.0</td>\n",
       "      <td>0.987398</td>\n",
       "      <td>-0.092457</td>\n",
       "      <td>4.262656</td>\n",
       "      <td>-6.795307</td>\n",
       "      <td>-0.131</td>\n",
       "      <td>-0.000281</td>\n",
       "      <td>3.86</td>\n",
       "    </tr>\n",
       "    <tr>\n",
       "      <th>...</th>\n",
       "      <td>...</td>\n",
       "      <td>...</td>\n",
       "      <td>...</td>\n",
       "      <td>...</td>\n",
       "      <td>...</td>\n",
       "      <td>...</td>\n",
       "      <td>...</td>\n",
       "      <td>...</td>\n",
       "      <td>...</td>\n",
       "      <td>...</td>\n",
       "      <td>...</td>\n",
       "    </tr>\n",
       "    <tr>\n",
       "      <th>1997205</th>\n",
       "      <td>1.698019e+09</td>\n",
       "      <td>29966.285</td>\n",
       "      <td>482950.0</td>\n",
       "      <td>635.0</td>\n",
       "      <td>-4056.925846</td>\n",
       "      <td>-1909.922487</td>\n",
       "      <td>926.278065</td>\n",
       "      <td>-97.689989</td>\n",
       "      <td>13.189</td>\n",
       "      <td>-0.000401</td>\n",
       "      <td>5.00</td>\n",
       "    </tr>\n",
       "    <tr>\n",
       "      <th>1997206</th>\n",
       "      <td>1.698019e+09</td>\n",
       "      <td>29970.500</td>\n",
       "      <td>169682.0</td>\n",
       "      <td>450.0</td>\n",
       "      <td>-3657.565528</td>\n",
       "      <td>-1988.042791</td>\n",
       "      <td>996.882531</td>\n",
       "      <td>-97.688910</td>\n",
       "      <td>24.399</td>\n",
       "      <td>0.000141</td>\n",
       "      <td>5.83</td>\n",
       "    </tr>\n",
       "    <tr>\n",
       "      <th>1997207</th>\n",
       "      <td>1.698019e+09</td>\n",
       "      <td>29975.100</td>\n",
       "      <td>111271.0</td>\n",
       "      <td>303.0</td>\n",
       "      <td>-3095.229187</td>\n",
       "      <td>-1922.717147</td>\n",
       "      <td>1072.856572</td>\n",
       "      <td>-97.688328</td>\n",
       "      <td>32.045</td>\n",
       "      <td>0.000153</td>\n",
       "      <td>3.40</td>\n",
       "    </tr>\n",
       "    <tr>\n",
       "      <th>1997208</th>\n",
       "      <td>1.698019e+09</td>\n",
       "      <td>29980.890</td>\n",
       "      <td>169741.0</td>\n",
       "      <td>631.0</td>\n",
       "      <td>-2332.807178</td>\n",
       "      <td>-1640.974425</td>\n",
       "      <td>1154.492462</td>\n",
       "      <td>-97.687019</td>\n",
       "      <td>22.669</td>\n",
       "      <td>0.000193</td>\n",
       "      <td>8.21</td>\n",
       "    </tr>\n",
       "    <tr>\n",
       "      <th>1997209</th>\n",
       "      <td>1.698019e+09</td>\n",
       "      <td>29988.730</td>\n",
       "      <td>321595.0</td>\n",
       "      <td>861.0</td>\n",
       "      <td>-1326.581600</td>\n",
       "      <td>-1044.992454</td>\n",
       "      <td>1242.094190</td>\n",
       "      <td>-97.685909</td>\n",
       "      <td>18.319</td>\n",
       "      <td>0.000261</td>\n",
       "      <td>12.47</td>\n",
       "    </tr>\n",
       "  </tbody>\n",
       "</table>\n",
       "<p>1997210 rows × 11 columns</p>\n",
       "</div>"
      ]
     },
     "metadata": {},
     "output_type": "display_data"
    }
   ],
   "execution_count": 25
  },
  {
   "metadata": {
    "ExecuteTime": {
     "end_time": "2025-01-12T19:26:08.245436Z",
     "start_time": "2025-01-12T19:26:08.243596Z"
    }
   },
   "cell_type": "code",
   "source": [
    "# Display the description of the dataset\n",
    "print(f\"\\nShape of y: {y.shape}\")"
   ],
   "id": "cbee4086a9e50a80",
   "outputs": [
    {
     "name": "stdout",
     "output_type": "stream",
     "text": [
      "\n",
      "Shape of y: (1997210,)\n"
     ]
    }
   ],
   "execution_count": 26
  },
  {
   "metadata": {
    "ExecuteTime": {
     "end_time": "2025-01-12T19:26:09.263322Z",
     "start_time": "2025-01-12T19:26:09.260241Z"
    }
   },
   "cell_type": "code",
   "source": [
    "# Display a table with the first few rows of y (target)\n",
    "display(target.head())"
   ],
   "id": "2109c84c24fb4c75",
   "outputs": [
    {
     "data": {
      "text/plain": [
       "0    1\n",
       "1    0\n",
       "2    1\n",
       "3    0\n",
       "4    0\n",
       "Name: price_direction, dtype: int64"
      ]
     },
     "metadata": {},
     "output_type": "display_data"
    }
   ],
   "execution_count": 27
  },
  {
   "metadata": {},
   "cell_type": "code",
   "outputs": [],
   "execution_count": null,
   "source": "",
   "id": "d42dc06dd78423ef"
  }
 ],
 "metadata": {
  "kernelspec": {
   "display_name": "Python 3",
   "language": "python",
   "name": "python3"
  },
  "language_info": {
   "codemirror_mode": {
    "name": "ipython",
    "version": 2
   },
   "file_extension": ".py",
   "mimetype": "text/x-python",
   "name": "python",
   "nbconvert_exporter": "python",
   "pygments_lexer": "ipython2",
   "version": "2.7.6"
  }
 },
 "nbformat": 4,
 "nbformat_minor": 5
}
