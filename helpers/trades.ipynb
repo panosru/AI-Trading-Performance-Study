{
 "cells": [
  {
   "metadata": {},
   "cell_type": "code",
   "outputs": [],
   "execution_count": null,
   "source": [
    "import os\n",
    "import pandas as pd\n",
    "import matplotlib.pyplot as plt\n",
    "from IPython.display import display\n",
    "from tqdm import tqdm\n",
    "import builtins"
   ],
   "id": "8b78fba966c28d20"
  },
  {
   "metadata": {},
   "cell_type": "code",
   "outputs": [],
   "execution_count": null,
   "source": [
    "# Ensure output directory exists, if not, create it, if fail, throw error\n",
    "try:\n",
    "    os.makedirs(output_path, exist_ok=True)\n",
    "except OSError as e:\n",
    "    raise Exception(f\"Error creating models directory: {e.strerror}\")"
   ],
   "id": "2a273c761fed9896"
  },
  {
   "metadata": {},
   "cell_type": "code",
   "outputs": [],
   "execution_count": null,
   "source": [
    "# Check if builtins.input is set\n",
    "if not hasattr(builtins, 'input'):\n",
    "    raise AttributeError(\"No trading input found in `builtins.input`. Set it dynamically before running.\")"
   ],
   "id": "b7652833285ad324"
  },
  {
   "metadata": {},
   "cell_type": "code",
   "outputs": [],
   "execution_count": null,
   "source": [
    "# Extract trading input from builtins\n",
    "data = builtins.data\n",
    "required_columns = ['prices', 'Action', 'Trade_Percentage']\n",
    "for col in required_columns:\n",
    "    if col not in data.columns:\n",
    "        raise ValueError(f\"Column '{col}' is missing in the trading DataFrame.\")"
   ],
   "id": "6a89f3354b5728f9"
  },
  {
   "metadata": {},
   "cell_type": "code",
   "outputs": [],
   "execution_count": null,
   "source": [
    "# Parameters\n",
    "initial_capital = 10000.0  # Starting USD balance\n",
    "initial_btc_balance = 0.0  # Starting BTC balance\n",
    "maker_fee = 0.0025  # Buy fee\n",
    "taker_fee = 0.004  # Sell fee"
   ],
   "id": "89336f531485fa85"
  },
  {
   "metadata": {},
   "cell_type": "code",
   "outputs": [],
   "execution_count": null,
   "source": [
    "# Simulate trades\n",
    "usd_balance = initial_capital\n",
    "btc_balance = initial_btc_balance"
   ],
   "id": "3d6078599a66bc21"
  },
  {
   "metadata": {},
   "cell_type": "code",
   "outputs": [],
   "execution_count": null,
   "source": [
    "# Create or overwrite the trading log file\n",
    "csv_file_path = f\"{output_path}trading_log.csv\""
   ],
   "id": "dd134badaafaaa52"
  },
  {
   "metadata": {},
   "cell_type": "code",
   "outputs": [],
   "execution_count": null,
   "source": [
    "# Add any additional calculated columns to the DataFrame\n",
    "data['Total_Capital'] = data['USD_Balance'] + data['BTC_Balance'] * data['prices']"
   ],
   "id": "4f7a983a5d21c4a9"
  },
  {
   "metadata": {},
   "cell_type": "code",
   "outputs": [],
   "execution_count": null,
   "source": [
    "# Replace NaNs in Action column with \"None\"\n",
    "data['Action'] = data['Action'].fillna('None')"
   ],
   "id": "b8e80a7f7063d251"
  },
  {
   "metadata": {},
   "cell_type": "code",
   "outputs": [],
   "execution_count": null,
   "source": [
    "print(\"Trading Log:\")\n",
    "display(data)"
   ],
   "id": "b867ccbb5cd1d894"
  },
  {
   "metadata": {},
   "cell_type": "code",
   "outputs": [],
   "execution_count": null,
   "source": [
    "# Write the DataFrame directly to a CSV file\n",
    "data.to_csv(csv_file_path, index=False)"
   ],
   "id": "b375dcf287af1362"
  },
  {
   "metadata": {},
   "cell_type": "code",
   "outputs": [],
   "execution_count": null,
   "source": [
    "# Read the CSV file\n",
    "trading_data = pd.read_csv(csv_file_path)"
   ],
   "id": "2d4fdcef525e3264"
  },
  {
   "metadata": {},
   "cell_type": "code",
   "outputs": [],
   "execution_count": null,
   "source": [
    "# Iterate over actions and simulate trades\n",
    "def process_trades(trading_data, usd_balance, btc_balance, maker_fee, taker_fee, show_progress=True):\n",
    "    \"\"\"\n",
    "    Process trades based on the trading input.\n",
    "\n",
    "    Args:\n",
    "        trading_data (pd.DataFrame): DataFrame containing trading actions, percentages, and prices.\n",
    "        usd_balance (float): Initial USD balance.\n",
    "        btc_balance (float): Initial BTC balance.\n",
    "        maker_fee (float): Fee for making a trade (buying).\n",
    "        taker_fee (float): Fee for taking a trade (selling).\n",
    "        show_progress (bool): Whether to show progress bars using tqdm.\n",
    "\n",
    "    Returns:\n",
    "        tuple: Updated balances, histories, and trade counts:\n",
    "            - usd_balance (float): Final USD balance.\n",
    "            - btc_balance (float): Final BTC balance.\n",
    "            - total_capital_history (list): List of total portfolio values over time.\n",
    "            - usd_balance_history (list): List of USD balances over time.\n",
    "            - btc_balance_history (list): List of BTC balances over time.\n",
    "            - buy_count (int): Total number of buy trades executed.\n",
    "            - sell_count (int): Total number of sell trades executed.\n",
    "    \"\"\"\n",
    "    total_capital_history = []\n",
    "    usd_balance_history = []\n",
    "    btc_balance_history = []\n",
    "    buy_count = 0\n",
    "    sell_count = 0\n",
    "\n",
    "    # Wrap tqdm around iterrows only if show_progress is True\n",
    "    row_iterator = tqdm(trading_data.iterrows(), desc=\"Processing Rows\", unit=\"rows\", total=len(trading_data)) if show_progress else trading_data.iterrows()\n",
    "\n",
    "    for index, row in row_iterator:\n",
    "        action = row['Action']\n",
    "        percentage = row['Trade_Percentage']  # Percentage to buy or sell, as determined by the model\n",
    "        price = row['prices']  # Use the price directly from trading_data\n",
    "\n",
    "        if action == 'Buy' and usd_balance > 0:\n",
    "            # Calculate the amount to invest based on the percentage\n",
    "            amount_to_invest = usd_balance * percentage\n",
    "            if amount_to_invest > 1e-6:  # Avoid negligible trades\n",
    "                fee = amount_to_invest * maker_fee\n",
    "                btc_bought = (amount_to_invest - fee) / price  # Deduct fee before buying\n",
    "                usd_balance -= amount_to_invest\n",
    "                btc_balance += btc_bought\n",
    "                buy_count += 1\n",
    "\n",
    "        elif action == 'Sell' and btc_balance > 0:\n",
    "            # Calculate the amount of BTC to sell based on the percentage\n",
    "            btc_to_sell = btc_balance * percentage\n",
    "            if btc_to_sell > 1e-6:  # Avoid negligible trades\n",
    "                usd_gained = btc_to_sell * price\n",
    "                fee = usd_gained * taker_fee\n",
    "                usd_gained -= fee  # Deduct fee after selling\n",
    "                btc_balance -= btc_to_sell\n",
    "                usd_balance += usd_gained\n",
    "                sell_count += 1\n",
    "\n",
    "        # Update histories\n",
    "        total_capital_history.append(usd_balance + btc_balance * price)\n",
    "        usd_balance_history.append(usd_balance)\n",
    "        btc_balance_history.append(btc_balance)\n",
    "\n",
    "    return usd_balance, btc_balance, total_capital_history, usd_balance_history, btc_balance_history, buy_count, sell_count"
   ],
   "id": "fb856130ed20ea95"
  },
  {
   "metadata": {},
   "cell_type": "code",
   "outputs": [],
   "execution_count": null,
   "source": [
    "# Process trades\n",
    "usd_balance, btc_balance, total_capital_history, usd_balance_history, btc_balance_history, buy_count, sell_count = process_trades(\n",
    "    trading_data=trading_data,\n",
    "    usd_balance=initial_capital,\n",
    "    btc_balance=0.0,\n",
    "    maker_fee=0.0025,\n",
    "    taker_fee=0.0040\n",
    ")"
   ],
   "id": "758d7d027a97d727"
  },
  {
   "metadata": {},
   "cell_type": "code",
   "outputs": [],
   "execution_count": null,
   "source": [
    "# Calculate final portfolio values\n",
    "final_btc_price = trading_data['prices'].iloc[-1]\n",
    "remaining_btc_value = btc_balance * final_btc_price\n",
    "total_portfolio_value = usd_balance + remaining_btc_value\n",
    "profit_loss = ((total_portfolio_value - initial_capital) / initial_capital) * 100"
   ],
   "id": "5e6ea9592d635a2b"
  },
  {
   "metadata": {},
   "cell_type": "code",
   "outputs": [],
   "execution_count": null,
   "source": [
    "# Display results\n",
    "# results = {\n",
    "#     \"Final USD Balance\": f\"${usd_balance:.2f}\",\n",
    "#     \"Remaining BTC\": f\"{btc_balance:.6f} BTC\",\n",
    "#     \"Remaining BTC Value (USD)\": f\"${remaining_btc_value:.2f}\",\n",
    "#     \"Final Portfolio Value (USD)\": f\"${total_portfolio_value:.2f}\",\n",
    "#     \"Profit/Loss\": f\"{profit_loss:.2f}%\",\n",
    "#     \"Total Trades Executed\": buy_count + sell_count,\n",
    "#     \"Buy Trades\": buy_count,\n",
    "#     \"Sell Trades\": sell_count\n",
    "# }\n",
    "# print(\"Trading Simulation Results:\")\n",
    "# display(pd.DataFrame([results]))\n",
    "\n",
    "# Print the final portfolio status\n",
    "print(\"Final Portfolio Status:\")\n",
    "print(f\"  USD Balance: ${usd_balance:.2f}\")\n",
    "print(f\"  BTC Balance: {btc_balance:.6f} BTC\")\n",
    "print(f\"  BTC Value (in USD at last price): ${remaining_btc_value:.2f}\")\n",
    "print(f\"  Total Portfolio Value (USD): ${total_portfolio_value:.2f}\")\n",
    "print(f\"  Profit/Loss: {profit_loss:.2f}%\")\n",
    "print(f\"  Total Trades Executed: {buy_count + sell_count}\")\n",
    "print(f\"    Buy Trades: {buy_count}\")\n",
    "print(f\"    Sell Trades: {sell_count}\")"
   ],
   "id": "64d17b9c7485c4cc"
  },
  {
   "metadata": {},
   "cell_type": "code",
   "outputs": [],
   "execution_count": null,
   "source": [
    "# Ensure required columns exist in trading_data\n",
    "required_columns = ['prices', 'Action']\n",
    "for col in required_columns:\n",
    "    if col not in trading_data.columns:\n",
    "        raise ValueError(f\"Column '{col}' is missing in trading_data.\")\n",
    "\n",
    "# Plot the prices and actions using trading_data\n",
    "plt.figure(figsize=(12, 6))\n",
    "\n",
    "# Plot prices from trading_data\n",
    "plt.plot(trading_data['prices'], label='Prices', color='blue', alpha=0.7, linewidth=1.5)\n",
    "\n",
    "# Highlight buy and sell actions\n",
    "buy_indices = trading_data[trading_data['Action'] == 'Buy'].index\n",
    "sell_indices = trading_data[trading_data['Action'] == 'Sell'].index\n",
    "\n",
    "# Scatter buy and sell actions on the price plot\n",
    "plt.scatter(buy_indices, trading_data.loc[buy_indices, 'prices'], color='green', label='Buy', marker='^', s=60, alpha=0.8)\n",
    "plt.scatter(sell_indices, trading_data.loc[sell_indices, 'prices'], color='red', label='Sell', marker='v', s=60, alpha=0.8)\n",
    "\n",
    "# Final plot adjustments\n",
    "plt.title('Prices with Buy/Sell Actions', fontsize=14)\n",
    "plt.xlabel('Time Steps', fontsize=12)\n",
    "plt.ylabel('Price', fontsize=12)\n",
    "plt.legend()\n",
    "plt.grid(True, linestyle='--', alpha=0.6)\n",
    "plt.tight_layout()\n",
    "\n",
    "# Show the plot\n",
    "plt.show()"
   ],
   "id": "1358a69b3299f5a3"
  },
  {
   "metadata": {},
   "cell_type": "code",
   "outputs": [],
   "execution_count": null,
   "source": [
    "# Calculate cumulative moving average for a smooth curve\n",
    "cumulative_average_total = pd.Series(total_capital_history).expanding(min_periods=1).mean()\n",
    "cumulative_average_usd = pd.Series(usd_balance_history).expanding(min_periods=1).mean()\n",
    "cumulative_average_btc = pd.Series(btc_balance_history).expanding(min_periods=1).mean()"
   ],
   "id": "b95dbfc6b2420f25"
  },
  {
   "metadata": {},
   "cell_type": "code",
   "outputs": [],
   "execution_count": null,
   "source": [
    "# Plot portfolio value progression\n",
    "time_indices = range(len(total_capital_history))\n",
    "plt.figure(figsize=(12, 6))\n",
    "plt.plot(time_indices, cumulative_average_total, label=\"Total Portfolio Value\", color='blue')\n",
    "plt.title(\"Portfolio Value Over Time\", fontsize=14)\n",
    "plt.xlabel(\"Time Steps\", fontsize=12)\n",
    "plt.ylabel(\"Value (USD)\", fontsize=12)\n",
    "plt.legend(fontsize=12)\n",
    "plt.grid(True)\n",
    "plt.tight_layout()\n",
    "plt.show()"
   ],
   "id": "84fe78f23070e9c0"
  },
  {
   "metadata": {},
   "cell_type": "code",
   "outputs": [],
   "execution_count": null,
   "source": [
    "# Plot USD balance progression\n",
    "time_indices = range(len(usd_balance_history))\n",
    "plt.figure(figsize=(12, 6))\n",
    "plt.plot(time_indices, cumulative_average_usd, label=\"USD Balance\", color='green', linewidth=2)\n",
    "plt.axhline(y=initial_capital, color='gray', linestyle='--', label=\"Initial Balance (10k USD)\")\n",
    "plt.title(\"USD Balance Progression Over Time\", fontsize=14)\n",
    "plt.xlabel(\"Time Steps\", fontsize=12)\n",
    "plt.ylabel(\"USD Balance (in USD)\", fontsize=12)\n",
    "plt.legend(fontsize=12)\n",
    "plt.grid(True)\n",
    "plt.tight_layout()\n",
    "plt.show()"
   ],
   "id": "e9f7451d953e3e2e"
  },
  {
   "metadata": {},
   "cell_type": "code",
   "outputs": [],
   "execution_count": null,
   "source": [
    "# Plot BTC balance progression\n",
    "time_indices = range(len(btc_balance_history))\n",
    "plt.figure(figsize=(12, 6))\n",
    "plt.plot(time_indices, cumulative_average_btc, label=\"BTC Balance\", color='orange', linewidth=2)\n",
    "plt.title(\"BTC Balance Progression Over Time\", fontsize=14)\n",
    "plt.xlabel(\"Time Steps\", fontsize=12)\n",
    "plt.ylabel(\"BTC Balance (in BTC)\", fontsize=12)\n",
    "plt.legend(fontsize=12)\n",
    "plt.grid(True)\n",
    "plt.tight_layout()\n",
    "plt.show()"
   ],
   "id": "f3a6479a99ef10cb"
  },
  {
   "metadata": {},
   "cell_type": "code",
   "outputs": [],
   "execution_count": null,
   "source": [
    "# Free-up memory by clean and close plt\n",
    "plt.close('all')"
   ],
   "id": "15de0d490064e71"
  }
 ],
 "metadata": {
  "kernelspec": {
   "display_name": "Python 3",
   "language": "python",
   "name": "python3"
  },
  "language_info": {
   "codemirror_mode": {
    "name": "ipython",
    "version": 2
   },
   "file_extension": ".py",
   "mimetype": "text/x-python",
   "name": "python",
   "nbconvert_exporter": "python",
   "pygments_lexer": "ipython2",
   "version": "2.7.6"
  }
 },
 "nbformat": 4,
 "nbformat_minor": 5
}
