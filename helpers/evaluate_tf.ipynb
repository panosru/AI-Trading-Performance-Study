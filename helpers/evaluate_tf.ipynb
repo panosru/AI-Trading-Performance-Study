{
 "cells": [
  {
   "metadata": {},
   "cell_type": "code",
   "outputs": [],
   "execution_count": null,
   "source": [
    "import matplotlib.pyplot as plt\n",
    "import pandas as pd"
   ],
   "id": "6926a46474182eef"
  },
  {
   "metadata": {
    "collapsed": true
   },
   "cell_type": "code",
   "outputs": [],
   "execution_count": null,
   "source": [
    "# Evaluate the model\n",
    "loss, accuracy = model.evaluate(test_dataset)\n",
    "print(f\"Test Accuracy: {accuracy * 100:.2f}%\")"
   ],
   "id": "initial_id"
  },
  {
   "metadata": {},
   "cell_type": "code",
   "outputs": [],
   "execution_count": null,
   "source": [
    "# Make predictions\n",
    "y_pred = model.predict(X_test_evaluate).flatten()\n",
    "y_pred = (y_pred > buy_threshold).astype(int)  # Convert probabilities to binary predictions"
   ],
   "id": "8cc19eed2a2e3567"
  },
  {
   "metadata": {},
   "cell_type": "code",
   "outputs": [],
   "execution_count": null,
   "source": [
    "# Save the model to export\n",
    "model.save(os.path.join(output_path, 'model.keras'))"
   ],
   "id": "682e9c41e8f4f9df"
  },
  {
   "metadata": {},
   "cell_type": "code",
   "outputs": [],
   "execution_count": null,
   "source": [
    "# Analyze predictions\n",
    "print(\"Confusion Matrix:\")\n",
    "print(pd.crosstab(y_test_evaluate, y_pred, rownames=['Actual'], colnames=['Predicted']))"
   ],
   "id": "5fedaf904244115a"
  },
  {
   "metadata": {},
   "cell_type": "code",
   "outputs": [],
   "execution_count": null,
   "source": [
    "# Extract accuracy and validation accuracy from the history object\n",
    "train_accuracy = history.history['accuracy']\n",
    "val_accuracy = history.history['val_accuracy']"
   ],
   "id": "a08635df0f18d8bb"
  },
  {
   "metadata": {},
   "cell_type": "code",
   "outputs": [],
   "execution_count": null,
   "source": [
    "# Extract the loss and validation loss for comparison\n",
    "train_loss = history.history['loss']\n",
    "val_loss = history.history['val_loss']"
   ],
   "id": "554cb2f615749683"
  },
  {
   "metadata": {},
   "cell_type": "code",
   "outputs": [],
   "execution_count": null,
   "source": [
    "# Plot Training and Validation Accuracy\n",
    "plt.figure(figsize=(12, 6))\n",
    "plt.plot(train_accuracy, label='Training Accuracy', color='blue', linewidth=2)\n",
    "plt.plot(val_accuracy, label='Validation Accuracy', color='orange', linewidth=2)\n",
    "plt.title('Training and Validation Accuracy Over Epochs', fontsize=14)\n",
    "plt.xlabel('Epochs', fontsize=12)\n",
    "plt.ylabel('Accuracy', fontsize=12)\n",
    "plt.legend(fontsize=12)\n",
    "plt.grid(True)\n",
    "plt.tight_layout()\n",
    "plt.show()"
   ],
   "id": "13483c53869fdaa7"
  },
  {
   "metadata": {},
   "cell_type": "code",
   "outputs": [],
   "execution_count": null,
   "source": [
    "# Plot Training and Validation Loss\n",
    "plt.figure(figsize=(12, 6))\n",
    "plt.plot(train_loss, label='Training Loss', color='blue', linewidth=2)\n",
    "plt.plot(val_loss, label='Validation Loss', color='orange', linewidth=2)\n",
    "plt.title('Training and Validation Loss Over Epochs', fontsize=14)\n",
    "plt.xlabel('Epochs', fontsize=12)\n",
    "plt.ylabel('Loss', fontsize=12)\n",
    "plt.legend(fontsize=12)\n",
    "plt.grid(True)\n",
    "plt.tight_layout()\n",
    "plt.show()"
   ],
   "id": "725455737821dc2b"
  }
 ],
 "metadata": {
  "kernelspec": {
   "display_name": "Python 3",
   "language": "python",
   "name": "python3"
  },
  "language_info": {
   "codemirror_mode": {
    "name": "ipython",
    "version": 2
   },
   "file_extension": ".py",
   "mimetype": "text/x-python",
   "name": "python",
   "nbconvert_exporter": "python",
   "pygments_lexer": "ipython2",
   "version": "2.7.6"
  }
 },
 "nbformat": 4,
 "nbformat_minor": 5
}
